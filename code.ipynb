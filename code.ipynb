{
  "nbformat": 4,
  "nbformat_minor": 0,
  "metadata": {
    "colab": {
      "provenance": [],
      "authorship_tag": "ABX9TyNc7lCK20M74kGSQuWegx8D"
    },
    "kernelspec": {
      "name": "python3",
      "display_name": "Python 3"
    },
    "language_info": {
      "name": "python"
    }
  },
  "cells": [
    {
      "cell_type": "markdown",
      "source": [
        "# Tache 1 : Person TABLE"
      ],
      "metadata": {
        "id": "uLCJvybun8Vd"
      }
    },
    {
      "cell_type": "markdown",
      "source": [
        "#### 1.1 Chargement des données  \n",
        "\n",
        "*   ir_ben_r : Table contenant les informations des assurés.\n",
        "*   er_prs_f : Table contenant les informations sur les prestations remboursées.\n",
        "*   T_mcoaaE : Table contenant des informations sur les établissements de santé\n",
        "*   ir_act_v et ir_spe_v : Tables contenant des informations sur les professionnels de santé."
      ],
      "metadata": {
        "id": "1IpXuwceouUi"
      }
    },
    {
      "cell_type": "code",
      "source": [
        "import pandas as pd\n",
        "import re\n",
        "import hashlib\n",
        "from datetime import datetime\n",
        "\n",
        "# Load the data files\n",
        "ir_ben_r = pd.read_csv(\"./ir_ben_r (1).csv\")\n",
        "er_prs_f = pd.read_csv(\"./er_prs_f (1).csv\")\n",
        "T_mcoaae = pd.read_csv(\"./t_mcoaae (1).csv\")\n",
        "ir_act_v = pd.read_csv(\"./ir_act_v (1).csv\")\n",
        "ir_spe_v = pd.read_csv(\"./ir_spe_v (1).csv\")\n",
        "\n",
        "# Check if the DataFrames were loaded correctly\n",
        "print(ir_ben_r.head())\n",
        "print(er_prs_f.head())\n",
        "print(T_mcoaae.head())\n",
        "print(ir_act_v.head())\n",
        "print(ir_spe_v.head())"
      ],
      "metadata": {
        "colab": {
          "base_uri": "https://localhost:8080/"
        },
        "id": "99eqaNG_n81y",
        "outputId": "918765b4-f03f-4f8c-bd1d-6a4a79ed81f5"
      },
      "execution_count": 57,
      "outputs": [
        {
          "output_type": "stream",
          "name": "stdout",
          "text": [
            "                   NUM_ENQ  ben_sex_cod  ben_nai_ann  ben_nai_moi  \\\n",
            "0  DPXX:00000000000000001X            2         1963           12   \n",
            "1    DPXX:000000000000002X            1         1971            2   \n",
            "2    DPXX:000000000000003X            1         1962           12   \n",
            "3    DPXX:000000000000004X            2         1959            3   \n",
            "4    DPXX:000000000000005X            1         1998            4   \n",
            "\n",
            "   ben_res_dpt  ben_res_reg  \n",
            "0           75          114  \n",
            "1           93          114  \n",
            "2           93          114  \n",
            "3           94          114  \n",
            "4           93          114  \n",
            "   id                         NUM_ENQ  prs_nat_ref exe_soi_dtd exe_soi_dtf  \\\n",
            "0   1  DPXX:000000000000000000000001X         1130  2013-03-04  2013-03-04   \n",
            "1   2  DPXX:000000000000000000000001X         1331  2013-03-05  2013-03-05   \n",
            "2   3  DPXX:000000000000000000000001X         3313  2013-03-05  2013-03-05   \n",
            "3   4  DPXX:000000000000000000000001X         3125  2013-03-07  2013-03-07   \n",
            "4   5  DPXX:000000000000000000000002X         1130  2013-03-05     2013-07   \n",
            "\n",
            "   pse_spe_cod  pse_act_nat  etb_pre_fin  \n",
            "0          1.0          NaN          NaN  \n",
            "1          6.0          NaN  750300360.0  \n",
            "2          NaN         50.0  750023772.0  \n",
            "3          NaN         26.0          NaN  \n",
            "4          6.0         26.0  750023772.0  \n",
            "     eta_num                        soc_rai\n",
            "0  750300360  l'Hôpital Privé des Peupliers\n",
            "1  750023772            Pharmacie Plaisance\n",
            "   pfs_act_nat             label\n",
            "0           26  Kinésithérapeute\n",
            "1           50        Pharmacien\n",
            "   pfs_spe_cod                label\n",
            "0            1  Médecin généraliste\n",
            "1            6           Radiologue\n"
          ]
        }
      ]
    },
    {
      "cell_type": "markdown",
      "source": [
        "#### 1.2 Création de la table Person ID"
      ],
      "metadata": {
        "id": "gGh_sxdEn8-2"
      }
    },
    {
      "cell_type": "code",
      "source": [
        "# 1. Person Id\n",
        "\n",
        "# Extraction de la partie numérique du NUM_ENQ\n",
        "def extract_numeric_id(num_enq):\n",
        "    # Trouver tous les chiffres après le préfixe\n",
        "    numeric_part = re.search(r\"(?<=:)\\d+\", num_enq).group()\n",
        "    return int(numeric_part)  # Conversion en entier\n"
      ],
      "metadata": {
        "id": "miclXyrteOxD"
      },
      "execution_count": 56,
      "outputs": []
    },
    {
      "cell_type": "code",
      "source": [
        "\n",
        "# Creation du code_commune\n",
        "ir_ben_r['code_commune'] = (ir_ben_r['ben_res_dpt'].astype(str)[:2] +\n",
        "                            ir_ben_r['ben_res_reg'].astype(str)).astype(int)\n",
        "# Creation location_id as hash of location_source_value\n",
        "ir_ben_r['location_id'] = ir_ben_r['code_commune'].apply(lambda x: hashlib.sha256(str(x).encode()).hexdigest())\n",
        "\n",
        "# 2. Création de la table PERSON OMOP\n",
        "Person = pd.DataFrame({\n",
        "    \"person_id\": ir_ben_r[\"NUM_ENQ\"].apply(extract_numeric_id),\n",
        "    \"gender_concept_id\": ir_ben_r[\"ben_sex_cod\"].map({1: 8507, 2: 8532}),\n",
        "    \"year_of_birth\": ir_ben_r[\"ben_nai_ann\"],\n",
        "    \"month_of_birth\": ir_ben_r[\"ben_nai_moi\"],\n",
        "    \"person_source_value\": ir_ben_r[\"NUM_ENQ\"],\n",
        "    \"gender_source_value\": ir_ben_r[\"ben_sex_cod\"],\n",
        "    \"location_id\": ir_ben_r[\"location_id\"]\n",
        "})\n",
        "\n",
        "\n",
        "# 3. Création de la Table LOCATION\n",
        "Location = pd.DataFrame({\n",
        "    \"location_source_value\":ir_ben_r[\"code_commune\"] ,\n",
        "}).drop_duplicates()\n",
        "# Creation location_id as hash of location_source_value\n",
        "Location['location_id'] = Location['location_source_value'].apply(lambda x: hashlib.sha256(str(x).encode()).hexdigest())\n",
        "\n",
        "\n",
        "# 4. Export\n",
        "Person.to_csv(\"omop_person.csv\", index=False)\n",
        "Location.to_csv(\"omop_location.csv\", index=False)\n",
        "\n",
        "print(Person.head())\n",
        "print(Location.head())"
      ],
      "metadata": {
        "colab": {
          "base_uri": "https://localhost:8080/"
        },
        "id": "Fc-BOwVzKWL3",
        "outputId": "416ac833-7fbb-4628-8a61-379520902e70"
      },
      "execution_count": 42,
      "outputs": [
        {
          "output_type": "stream",
          "name": "stdout",
          "text": [
            "   person_id  gender_concept_id  year_of_birth  month_of_birth  \\\n",
            "0          1               8532           1963              12   \n",
            "1          2               8507           1971               2   \n",
            "2          3               8507           1962              12   \n",
            "3          4               8532           1959               3   \n",
            "4          5               8507           1998               4   \n",
            "\n",
            "       person_source_value  gender_source_value  \\\n",
            "0  DPXX:00000000000000001X                    2   \n",
            "1    DPXX:000000000000002X                    1   \n",
            "2    DPXX:000000000000003X                    1   \n",
            "3    DPXX:000000000000004X                    2   \n",
            "4    DPXX:000000000000005X                    1   \n",
            "\n",
            "                                         location_id  \n",
            "0  3726ea216853610b03eb430297a2a7fb6a002d0c42ebe3...  \n",
            "1  8cb624ac1c63fc8494076b622cdf3bb0278c6e1bd47f74...  \n",
            "2  8cb624ac1c63fc8494076b622cdf3bb0278c6e1bd47f74...  \n",
            "3  aba4b4460e4771b9a62c83ac2734787ee87ab095165720...  \n",
            "4  8cb624ac1c63fc8494076b622cdf3bb0278c6e1bd47f74...  \n",
            "   location_source_value                                        location_id\n",
            "0                  75114  3726ea216853610b03eb430297a2a7fb6a002d0c42ebe3...\n",
            "1                  93114  8cb624ac1c63fc8494076b622cdf3bb0278c6e1bd47f74...\n",
            "3                  94114  aba4b4460e4771b9a62c83ac2734787ee87ab095165720...\n",
            "5                  75116  6fd384327b643e0b25f2b907e7f8316d20c3dd55b49a48...\n",
            "7                  93116  7e8eaf186af1ead8977a18e6533a2c4600fb7ea36c1eeb...\n"
          ]
        }
      ]
    },
    {
      "cell_type": "markdown",
      "source": [
        "# Tache 2 : CARE_SITE TABLE"
      ],
      "metadata": {
        "id": "BBzBVsQXn9Xm"
      }
    },
    {
      "cell_type": "markdown",
      "source": [
        "#### 2.1 Création d'une base SQLite"
      ],
      "metadata": {
        "id": "R6SKbGmfYu67"
      }
    },
    {
      "cell_type": "code",
      "source": [
        "import sqlite3\n",
        "# Create a connection to the SQLite database\n",
        "conn = sqlite3.connect('database.sql')\n",
        "cursor = conn.cursor()\n",
        "\n",
        "# Create the CARE_SITE table\n",
        "cursor.execute('''\n",
        "  CREATE TABLE IF NOT EXISTS CARE_SITE (\n",
        "    care_site_id INTEGER PRIMARY KEY AUTOINCREMENT,\n",
        "    care_site_name VARCHAR,\n",
        "    location_id INTEGER,\n",
        "    care_site_source_value VARCHAR\n",
        "  )\n",
        "''')\n",
        "\n",
        "# Commit the changes and close the connection\n",
        "conn.commit()"
      ],
      "metadata": {
        "id": "eeubRo16Ge1P"
      },
      "execution_count": 48,
      "outputs": []
    },
    {
      "cell_type": "markdown",
      "source": [
        "#### 2.2 Chargement"
      ],
      "metadata": {
        "id": "X1mNzt4FZJ3V"
      }
    },
    {
      "cell_type": "code",
      "source": [
        "\n",
        "# Data from T_mcoaae\n",
        "for index, row in T_mcoaae.iterrows():\n",
        "  care_site_source_value = row['eta_num']\n",
        "  care_site_name = row['soc_rai']\n",
        "  location_id = str(row['eta_num'])[0:2]\n",
        "\n",
        "  cursor.execute('''\n",
        "    INSERT INTO CARE_SITE (care_site_name, care_site_source_value, location_id)\n",
        "    VALUES (?, ?, ?)\n",
        "  ''', (care_site_name, care_site_source_value, location_id))\n",
        "\n",
        "# Commit the changes and close the connection\n",
        "conn.commit()\n",
        "conn.close()\n",
        "\n"
      ],
      "metadata": {
        "id": "q6QX38yzILri"
      },
      "execution_count": 49,
      "outputs": []
    },
    {
      "cell_type": "markdown",
      "source": [
        "# Tache 3 : PROVIDER TABLE"
      ],
      "metadata": {
        "id": "2GTai5UoVbeO"
      }
    },
    {
      "cell_type": "code",
      "source": [
        "!pip install pyspark\n",
        "from pyspark.sql import SparkSession\n",
        "from pyspark.sql.types import StructType, StructField, IntegerType, StringType\n",
        "\n",
        "# Initialize Spark session\n",
        "spark = SparkSession.builder.appName(\"OMOPProvider\").getOrCreate()\n",
        "\n",
        "# Define the schema for the provider table\n",
        "provider_schema = StructType([\n",
        "    StructField(\"provider_id\", IntegerType(), True),\n",
        "    StructField(\"specialty_concept_id\", IntegerType(), True),\n",
        "    StructField(\"provider_source_value\", StringType(), True),\n",
        "    StructField(\"specialty_source_value\", StringType(), True)\n",
        "])\n",
        "\n",
        "# Create an empty DataFrame with the defined schema\n",
        "provider_df = spark.createDataFrame([], provider_schema)\n",
        "\n",
        "# Create the table in Spark\n",
        "provider_df.createOrReplaceTempView(\"provider\")\n",
        "\n",
        "#Verify\n",
        "spark.sql(\"DESCRIBE provider\").show()"
      ],
      "metadata": {
        "colab": {
          "base_uri": "https://localhost:8080/"
        },
        "id": "H1wLKPTgWG-R",
        "outputId": "c4f154ea-c306-4f20-cdec-9c1219a58e96"
      },
      "execution_count": 55,
      "outputs": [
        {
          "output_type": "stream",
          "name": "stdout",
          "text": [
            "Requirement already satisfied: pyspark in /usr/local/lib/python3.11/dist-packages (3.5.4)\n",
            "Requirement already satisfied: py4j==0.10.9.7 in /usr/local/lib/python3.11/dist-packages (from pyspark) (0.10.9.7)\n",
            "+--------------------+---------+-------+\n",
            "|            col_name|data_type|comment|\n",
            "+--------------------+---------+-------+\n",
            "|         provider_id|      int|   NULL|\n",
            "|specialty_concept_id|      int|   NULL|\n",
            "|provider_source_v...|   string|   NULL|\n",
            "|specialty_source_...|   string|   NULL|\n",
            "+--------------------+---------+-------+\n",
            "\n"
          ]
        }
      ]
    }
  ]
}