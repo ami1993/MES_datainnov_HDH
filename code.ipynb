{
  "nbformat": 4,
  "nbformat_minor": 0,
  "metadata": {
    "colab": {
      "provenance": [],
      "authorship_tag": "ABX9TyPp4AyiF0YL60S/0X38Box5"
    },
    "kernelspec": {
      "name": "python3",
      "display_name": "Python 3"
    },
    "language_info": {
      "name": "python"
    }
  },
  "cells": [
    {
      "cell_type": "markdown",
      "source": [
        "# Tache 1 : Person TABLE"
      ],
      "metadata": {
        "id": "uLCJvybun8Vd"
      }
    },
    {
      "cell_type": "markdown",
      "source": [
        "#### 1.1 Extraction des données  \n",
        "Chargement des fichiers\n",
        "\n",
        "\n",
        "*   ir_ben_r : Table contenant les informations des assurés.\n",
        "*   er_prs_f : Table contenant les informations sur les prestations remboursées.\n",
        "*   T_mcoaaE : Table contenant des informations sur les établissements de santé\n",
        "*   ir_act_v et ir_spe_v : Tables contenant des informations sur les professionnels de santé."
      ],
      "metadata": {
        "id": "1IpXuwceouUi"
      }
    },
    {
      "cell_type": "code",
      "source": [
        "import pandas as pd\n",
        "import os\n",
        "\n",
        "# Load the data files\n",
        "ir_ben_r = pd.read_csv(\"./ir_ben_r (1).csv\")\n",
        "er_prs_f = pd.read_csv(\"./er_prs_f (1).csv\")\n",
        "T_mcoaae = pd.read_csv(\"./t_mcoaae (1).csv\")\n",
        "ir_act_v = pd.read_csv(\"./ir_act_v (1).csv\")\n",
        "ir_spe_v = pd.read_csv(\"./ir_spe_v (1).csv\")\n",
        "\n",
        "# Check if the DataFrames were loaded correctly\n",
        "print(ir_ben_r.head())\n",
        "print(er_prs_f.head())\n",
        "print(T_mcoaae.head())\n",
        "print(ir_act_v.head())\n",
        "print(ir_spe_v.head())"
      ],
      "metadata": {
        "colab": {
          "base_uri": "https://localhost:8080/"
        },
        "id": "99eqaNG_n81y",
        "outputId": "21bcd4de-f60a-4b50-f1ea-59cdf0d9bccb"
      },
      "execution_count": 54,
      "outputs": [
        {
          "output_type": "stream",
          "name": "stdout",
          "text": [
            "                   NUM_ENQ  ben_sex_cod  ben_nai_ann  ben_nai_moi  \\\n",
            "0  DPXX:00000000000000001X            2         1963           12   \n",
            "1    DPXX:000000000000002X            1         1971            2   \n",
            "2    DPXX:000000000000003X            1         1962           12   \n",
            "3    DPXX:000000000000004X            2         1959            3   \n",
            "4    DPXX:000000000000005X            1         1998            4   \n",
            "\n",
            "   ben_res_dpt  ben_res_reg  \n",
            "0           75          114  \n",
            "1           93          114  \n",
            "2           93          114  \n",
            "3           94          114  \n",
            "4           93          114  \n",
            "   id                         NUM_ENQ  prs_nat_ref exe_soi_dtd exe_soi_dtf  \\\n",
            "0   1  DPXX:000000000000000000000001X         1130  2013-03-04  2013-03-04   \n",
            "1   2  DPXX:000000000000000000000001X         1331  2013-03-05  2013-03-05   \n",
            "2   3  DPXX:000000000000000000000001X         3313  2013-03-05  2013-03-05   \n",
            "3   4  DPXX:000000000000000000000001X         3125  2013-03-07  2013-03-07   \n",
            "4   5  DPXX:000000000000000000000002X         1130  2013-03-05     2013-07   \n",
            "\n",
            "   pse_spe_cod  pse_act_nat  etb_pre_fin  \n",
            "0          1.0          NaN          NaN  \n",
            "1          6.0          NaN  750300360.0  \n",
            "2          NaN         50.0  750023772.0  \n",
            "3          NaN         26.0          NaN  \n",
            "4          6.0         26.0  750023772.0  \n",
            "     eta_num                        soc_rai\n",
            "0  750300360  l'Hôpital Privé des Peupliers\n",
            "1  750023772            Pharmacie Plaisance\n",
            "   pfs_act_nat             label\n",
            "0           26  Kinésithérapeute\n",
            "1           50        Pharmacien\n",
            "   pfs_spe_cod                label\n",
            "0            1  Médecin généraliste\n",
            "1            6           Radiologue\n"
          ]
        }
      ]
    },
    {
      "cell_type": "markdown",
      "source": [],
      "metadata": {
        "id": "gGh_sxdEn8-2"
      }
    },
    {
      "cell_type": "code",
      "source": [
        "import pandas as pd\n",
        "import re\n",
        "\n",
        "# 2. Ajout de la colonne Person Id\n",
        "\n",
        "# Extraction de la partie numérique du NUM_ENQ\n",
        "def extract_numeric_id(num_enq):\n",
        "    # Trouver tous les chiffres après le préfixe\n",
        "    numeric_part = re.search(r\"(?<=:)\\d+\", num_enq).group()\n",
        "    return int(numeric_part)  # Conversion en entier\n"
      ],
      "metadata": {
        "colab": {
          "base_uri": "https://localhost:8080/"
        },
        "id": "miclXyrteOxD",
        "outputId": "c8cddfd9-b22d-48e4-ebb5-5e0a67f471ed"
      },
      "execution_count": 26,
      "outputs": [
        {
          "output_type": "stream",
          "name": "stdout",
          "text": [
            "Résultat :\n",
            "Empty DataFrame\n",
            "Columns: []\n",
            "Index: []\n"
          ]
        }
      ]
    },
    {
      "cell_type": "code",
      "source": [
        "import pandas as pd\n",
        "import hashlib\n",
        "from datetime import datetime\n",
        "\n",
        "# Creation du code_commune\n",
        "ir_ben_r['code_commune'] = (ir_ben_r['ben_res_dpt'].astype(str)[:2] +\n",
        "                            ir_ben_r['ben_res_reg'].astype(str)).astype(int)\n",
        "\n",
        "ir_ben_r['location_id'] = ir_ben_r['code_commune'].apply(lambda x: hashlib.sha256(str(x).encode()).hexdigest())\n",
        "\n",
        "# 2. Création de la table PERSON OMOP\n",
        "Person = pd.DataFrame({\n",
        "    \"person_id\": ir_ben_r[\"NUM_ENQ\"].apply(extract_numeric_id),\n",
        "    \"gender_concept_id\": ir_ben_r[\"ben_sex_cod\"].map({1: 8507, 2: 8532}),\n",
        "    \"year_of_birth\": ir_ben_r[\"ben_nai_ann\"],\n",
        "    \"month_of_birth\": ir_ben_r[\"ben_nai_moi\"],\n",
        "    \"person_source_value\": ir_ben_r[\"NUM_ENQ\"],\n",
        "    \"gender_source_value\": ir_ben_r[\"ben_sex_cod\"],\n",
        "    \"location_id\": ir_ben_r[\"location_id\"]\n",
        "})\n",
        "\n",
        "\n",
        "# 3. Création de la Table LOCATION\n",
        "Location = pd.DataFrame({\n",
        "    \"location_source_value\":ir_ben_r[\"code_commune\"] ,\n",
        "}).drop_duplicates()\n",
        "\n",
        "# Create location_id as hash of location_source_value\n",
        "Location['location_id'] = Location['location_source_value'].apply(lambda x: hashlib.sha256(str(x).encode()).hexdigest())\n",
        "\n",
        "\n",
        "# Export\n",
        "Person.to_csv(\"omop_person.csv\", index=False)\n",
        "Location.to_csv(\"omop_location.csv\", index=False)\n",
        "\n",
        "print(Person.head())\n",
        "print(Location.head())"
      ],
      "metadata": {
        "colab": {
          "base_uri": "https://localhost:8080/"
        },
        "id": "Fc-BOwVzKWL3",
        "outputId": "416ac833-7fbb-4628-8a61-379520902e70"
      },
      "execution_count": 42,
      "outputs": [
        {
          "output_type": "stream",
          "name": "stdout",
          "text": [
            "   person_id  gender_concept_id  year_of_birth  month_of_birth  \\\n",
            "0          1               8532           1963              12   \n",
            "1          2               8507           1971               2   \n",
            "2          3               8507           1962              12   \n",
            "3          4               8532           1959               3   \n",
            "4          5               8507           1998               4   \n",
            "\n",
            "       person_source_value  gender_source_value  \\\n",
            "0  DPXX:00000000000000001X                    2   \n",
            "1    DPXX:000000000000002X                    1   \n",
            "2    DPXX:000000000000003X                    1   \n",
            "3    DPXX:000000000000004X                    2   \n",
            "4    DPXX:000000000000005X                    1   \n",
            "\n",
            "                                         location_id  \n",
            "0  3726ea216853610b03eb430297a2a7fb6a002d0c42ebe3...  \n",
            "1  8cb624ac1c63fc8494076b622cdf3bb0278c6e1bd47f74...  \n",
            "2  8cb624ac1c63fc8494076b622cdf3bb0278c6e1bd47f74...  \n",
            "3  aba4b4460e4771b9a62c83ac2734787ee87ab095165720...  \n",
            "4  8cb624ac1c63fc8494076b622cdf3bb0278c6e1bd47f74...  \n",
            "   location_source_value                                        location_id\n",
            "0                  75114  3726ea216853610b03eb430297a2a7fb6a002d0c42ebe3...\n",
            "1                  93114  8cb624ac1c63fc8494076b622cdf3bb0278c6e1bd47f74...\n",
            "3                  94114  aba4b4460e4771b9a62c83ac2734787ee87ab095165720...\n",
            "5                  75116  6fd384327b643e0b25f2b907e7f8316d20c3dd55b49a48...\n",
            "7                  93116  7e8eaf186af1ead8977a18e6533a2c4600fb7ea36c1eeb...\n"
          ]
        }
      ]
    },
    {
      "cell_type": "markdown",
      "source": [
        "# Tache 2 : CARE_SITE TABLE"
      ],
      "metadata": {
        "id": "BBzBVsQXn9Xm"
      }
    },
    {
      "cell_type": "code",
      "source": [
        "# 3. Création de la Table LOCATION\n",
        "Location = pd.DataFrame({\n",
        "    \"location_source_value\":ir_ben_r[\"code_commune\"] ,\n",
        "}).drop_duplicates()\n",
        "\n",
        "# Create location_id as hash of location_source_value\n",
        "Location['location_id'] = Location['location_source_value'].apply(lambda x: hashlib.sha256(str(x).encode()).hexdigest())\n",
        "\n",
        "\n"
      ],
      "metadata": {
        "id": "dTlu3dbf6Ytd"
      },
      "execution_count": null,
      "outputs": []
    },
    {
      "cell_type": "code",
      "source": [
        "# prompt: # create sqlite database databse.sql\n",
        "# and create a table ( CARE site de OMOP\n",
        "\n",
        "import sqlite3\n",
        "# Create a connection to the SQLite database\n",
        "conn = sqlite3.connect('database.sql')\n",
        "cursor = conn.cursor()\n",
        "\n",
        "# Create the CARE_SITE table\n",
        "cursor.execute('''\n",
        "  CREATE TABLE IF NOT EXISTS CARE_SITE (\n",
        "    care_site_id INTEGER PRIMARY KEY AUTOINCREMENT,\n",
        "    care_site_name VARCHAR,\n",
        "    location_id INTEGER,\n",
        "    care_site_source_value VARCHAR\n",
        "  )\n",
        "''')\n",
        "\n",
        "# Commit the changes and close the connection\n",
        "conn.commit()\n",
        "\n"
      ],
      "metadata": {
        "id": "eeubRo16Ge1P"
      },
      "execution_count": 48,
      "outputs": []
    },
    {
      "cell_type": "code",
      "source": [
        "\n",
        "# Data from T_mcoaae\n",
        "for index, row in T_mcoaae.iterrows():\n",
        "  care_site_source_value = row['eta_num']\n",
        "  care_site_name = row['soc_rai']\n",
        "  location_id = str(row['eta_num'])[0:2]\n",
        "\n",
        "  cursor.execute('''\n",
        "    INSERT INTO CARE_SITE (care_site_name, care_site_source_value, location_id)\n",
        "    VALUES (?, ?, ?)\n",
        "  ''', (care_site_name, care_site_source_value, location_id))\n",
        "\n",
        "# Commit the changes and close the connection\n",
        "conn.commit()\n",
        "conn.close()\n",
        "\n"
      ],
      "metadata": {
        "id": "q6QX38yzILri"
      },
      "execution_count": 49,
      "outputs": []
    },
    {
      "cell_type": "markdown",
      "source": [
        "# Tache 2 : CARE SITE TABLE"
      ],
      "metadata": {
        "id": "2GTai5UoVbeO"
      }
    },
    {
      "cell_type": "code",
      "source": [
        "# prompt: create an empty apache spark table called provider de omop add define the colomns\n",
        "\n",
        "!pip install pyspark\n",
        "from pyspark.sql import SparkSession\n",
        "from pyspark.sql.types import StructType, StructField, IntegerType, StringType\n",
        "\n",
        "# Initialize Spark session\n",
        "spark = SparkSession.builder.appName(\"OMOPProvider\").getOrCreate()\n",
        "\n",
        "# Define the schema for the provider table\n",
        "provider_schema = StructType([\n",
        "    StructField(\"provider_id\", IntegerType(), True),\n",
        "    StructField(\"specialty_concept_id\", IntegerType(), True),\n",
        "    StructField(\"provider_source_value\", StringType(), True),\n",
        "    StructField(\"specialty_source_value\", StringType(), True)\n",
        "])\n",
        "\n",
        "# Create an empty DataFrame with the defined schema\n",
        "provider_df = spark.createDataFrame([], provider_schema)\n",
        "\n",
        "# Create the table in Spark\n",
        "provider_df.createOrReplaceTempView(\"provider\")\n",
        "\n",
        "#Verify\n",
        "spark.sql(\"DESCRIBE provider\").show()\n"
      ],
      "metadata": {
        "colab": {
          "base_uri": "https://localhost:8080/"
        },
        "id": "4hRP69xVOcpF",
        "outputId": "c40d77a0-a898-4dfd-f697-e7f99bcd4c1c"
      },
      "execution_count": 50,
      "outputs": [
        {
          "output_type": "stream",
          "name": "stdout",
          "text": [
            "Requirement already satisfied: pyspark in /usr/local/lib/python3.11/dist-packages (3.5.4)\n",
            "Requirement already satisfied: py4j==0.10.9.7 in /usr/local/lib/python3.11/dist-packages (from pyspark) (0.10.9.7)\n",
            "+--------------------+---------+-------+\n",
            "|            col_name|data_type|comment|\n",
            "+--------------------+---------+-------+\n",
            "|         provider_id|      int|   NULL|\n",
            "|specialty_concept_id|      int|   NULL|\n",
            "|provider_source_v...|   string|   NULL|\n",
            "|specialty_source_...|   string|   NULL|\n",
            "+--------------------+---------+-------+\n",
            "\n"
          ]
        }
      ]
    },
    {
      "cell_type": "code",
      "source": [
        "# prompt: range for  IR_SPE_V read pfs_spe_cod and inset into spark.sql(\"\"\"\n",
        "# INSERT INTO provider  ( do not recreate anything do not import anything\n",
        "\n",
        "# Assuming spark session is already initialized and the 'provider' table is created\n",
        "\n",
        "# Iterate through each row of ir_spe_v\n",
        "for index, row in ir_spe_v.iterrows():\n",
        "    pfs_spe_cod = row['pfs_spe_cod']\n",
        "\n",
        "    # Check if the code is within the desired range\n",
        "    if 1 <= int(pfs_spe_cod) <= 999:\n",
        "\n",
        "      # Define the SQL query to insert into the 'provider' table\n",
        "      # Create a provider id to make it unique\n",
        "      provider_id= int(str(row['pfs_spe_cod'])+str(index))\n",
        "\n",
        "      # Using row to get the provider_source_value\n",
        "      provider_source_value = row['spe_cod']\n",
        "      specialty_source_value= row['pfs_spe_cod']\n",
        "\n",
        "      insert_query = f\"\"\"\n",
        "        INSERT INTO provider (provider_id, specialty_concept_id, provider_source_value, specialty_source_value)\n",
        "        VALUES ({provider_id}, {pfs_spe_cod}, '{provider_source_value}', '{specialty_source_value}')\n",
        "      \"\"\"\n",
        "\n",
        "      # Execute the SQL query\n",
        "      spark.sql(insert_query)\n"
      ],
      "metadata": {
        "colab": {
          "base_uri": "https://localhost:8080/",
          "height": 547
        },
        "id": "5CWiH13vRxfh",
        "outputId": "6c51b6af-c111-4e2d-9cdd-35e9d0c47a9a"
      },
      "execution_count": 52,
      "outputs": [
        {
          "output_type": "error",
          "ename": "KeyError",
          "evalue": "'spe_cod'",
          "traceback": [
            "\u001b[0;31m---------------------------------------------------------------------------\u001b[0m",
            "\u001b[0;31mKeyError\u001b[0m                                  Traceback (most recent call last)",
            "\u001b[0;32m/usr/local/lib/python3.11/dist-packages/pandas/core/indexes/base.py\u001b[0m in \u001b[0;36mget_loc\u001b[0;34m(self, key)\u001b[0m\n\u001b[1;32m   3804\u001b[0m         \u001b[0;32mtry\u001b[0m\u001b[0;34m:\u001b[0m\u001b[0;34m\u001b[0m\u001b[0;34m\u001b[0m\u001b[0m\n\u001b[0;32m-> 3805\u001b[0;31m             \u001b[0;32mreturn\u001b[0m \u001b[0mself\u001b[0m\u001b[0;34m.\u001b[0m\u001b[0m_engine\u001b[0m\u001b[0;34m.\u001b[0m\u001b[0mget_loc\u001b[0m\u001b[0;34m(\u001b[0m\u001b[0mcasted_key\u001b[0m\u001b[0;34m)\u001b[0m\u001b[0;34m\u001b[0m\u001b[0;34m\u001b[0m\u001b[0m\n\u001b[0m\u001b[1;32m   3806\u001b[0m         \u001b[0;32mexcept\u001b[0m \u001b[0mKeyError\u001b[0m \u001b[0;32mas\u001b[0m \u001b[0merr\u001b[0m\u001b[0;34m:\u001b[0m\u001b[0;34m\u001b[0m\u001b[0;34m\u001b[0m\u001b[0m\n",
            "\u001b[0;32mindex.pyx\u001b[0m in \u001b[0;36mpandas._libs.index.IndexEngine.get_loc\u001b[0;34m()\u001b[0m\n",
            "\u001b[0;32mindex.pyx\u001b[0m in \u001b[0;36mpandas._libs.index.IndexEngine.get_loc\u001b[0;34m()\u001b[0m\n",
            "\u001b[0;32mpandas/_libs/hashtable_class_helper.pxi\u001b[0m in \u001b[0;36mpandas._libs.hashtable.PyObjectHashTable.get_item\u001b[0;34m()\u001b[0m\n",
            "\u001b[0;32mpandas/_libs/hashtable_class_helper.pxi\u001b[0m in \u001b[0;36mpandas._libs.hashtable.PyObjectHashTable.get_item\u001b[0;34m()\u001b[0m\n",
            "\u001b[0;31mKeyError\u001b[0m: 'spe_cod'",
            "\nThe above exception was the direct cause of the following exception:\n",
            "\u001b[0;31mKeyError\u001b[0m                                  Traceback (most recent call last)",
            "\u001b[0;32m<ipython-input-52-ebfa500b5a3d>\u001b[0m in \u001b[0;36m<cell line: 0>\u001b[0;34m()\u001b[0m\n\u001b[1;32m     16\u001b[0m \u001b[0;34m\u001b[0m\u001b[0m\n\u001b[1;32m     17\u001b[0m       \u001b[0;31m# Using row to get the provider_source_value\u001b[0m\u001b[0;34m\u001b[0m\u001b[0;34m\u001b[0m\u001b[0m\n\u001b[0;32m---> 18\u001b[0;31m       \u001b[0mprovider_source_value\u001b[0m \u001b[0;34m=\u001b[0m \u001b[0mrow\u001b[0m\u001b[0;34m[\u001b[0m\u001b[0;34m'spe_cod'\u001b[0m\u001b[0;34m]\u001b[0m\u001b[0;34m\u001b[0m\u001b[0;34m\u001b[0m\u001b[0m\n\u001b[0m\u001b[1;32m     19\u001b[0m       \u001b[0mspecialty_source_value\u001b[0m\u001b[0;34m=\u001b[0m \u001b[0mrow\u001b[0m\u001b[0;34m[\u001b[0m\u001b[0;34m'pfs_spe_cod'\u001b[0m\u001b[0;34m]\u001b[0m\u001b[0;34m\u001b[0m\u001b[0;34m\u001b[0m\u001b[0m\n\u001b[1;32m     20\u001b[0m \u001b[0;34m\u001b[0m\u001b[0m\n",
            "\u001b[0;32m/usr/local/lib/python3.11/dist-packages/pandas/core/series.py\u001b[0m in \u001b[0;36m__getitem__\u001b[0;34m(self, key)\u001b[0m\n\u001b[1;32m   1119\u001b[0m \u001b[0;34m\u001b[0m\u001b[0m\n\u001b[1;32m   1120\u001b[0m         \u001b[0;32melif\u001b[0m \u001b[0mkey_is_scalar\u001b[0m\u001b[0;34m:\u001b[0m\u001b[0;34m\u001b[0m\u001b[0;34m\u001b[0m\u001b[0m\n\u001b[0;32m-> 1121\u001b[0;31m             \u001b[0;32mreturn\u001b[0m \u001b[0mself\u001b[0m\u001b[0;34m.\u001b[0m\u001b[0m_get_value\u001b[0m\u001b[0;34m(\u001b[0m\u001b[0mkey\u001b[0m\u001b[0;34m)\u001b[0m\u001b[0;34m\u001b[0m\u001b[0;34m\u001b[0m\u001b[0m\n\u001b[0m\u001b[1;32m   1122\u001b[0m \u001b[0;34m\u001b[0m\u001b[0m\n\u001b[1;32m   1123\u001b[0m         \u001b[0;31m# Convert generator to list before going through hashable part\u001b[0m\u001b[0;34m\u001b[0m\u001b[0;34m\u001b[0m\u001b[0m\n",
            "\u001b[0;32m/usr/local/lib/python3.11/dist-packages/pandas/core/series.py\u001b[0m in \u001b[0;36m_get_value\u001b[0;34m(self, label, takeable)\u001b[0m\n\u001b[1;32m   1235\u001b[0m \u001b[0;34m\u001b[0m\u001b[0m\n\u001b[1;32m   1236\u001b[0m         \u001b[0;31m# Similar to Index.get_value, but we do not fall back to positional\u001b[0m\u001b[0;34m\u001b[0m\u001b[0;34m\u001b[0m\u001b[0m\n\u001b[0;32m-> 1237\u001b[0;31m         \u001b[0mloc\u001b[0m \u001b[0;34m=\u001b[0m \u001b[0mself\u001b[0m\u001b[0;34m.\u001b[0m\u001b[0mindex\u001b[0m\u001b[0;34m.\u001b[0m\u001b[0mget_loc\u001b[0m\u001b[0;34m(\u001b[0m\u001b[0mlabel\u001b[0m\u001b[0;34m)\u001b[0m\u001b[0;34m\u001b[0m\u001b[0;34m\u001b[0m\u001b[0m\n\u001b[0m\u001b[1;32m   1238\u001b[0m \u001b[0;34m\u001b[0m\u001b[0m\n\u001b[1;32m   1239\u001b[0m         \u001b[0;32mif\u001b[0m \u001b[0mis_integer\u001b[0m\u001b[0;34m(\u001b[0m\u001b[0mloc\u001b[0m\u001b[0;34m)\u001b[0m\u001b[0;34m:\u001b[0m\u001b[0;34m\u001b[0m\u001b[0;34m\u001b[0m\u001b[0m\n",
            "\u001b[0;32m/usr/local/lib/python3.11/dist-packages/pandas/core/indexes/base.py\u001b[0m in \u001b[0;36mget_loc\u001b[0;34m(self, key)\u001b[0m\n\u001b[1;32m   3810\u001b[0m             ):\n\u001b[1;32m   3811\u001b[0m                 \u001b[0;32mraise\u001b[0m \u001b[0mInvalidIndexError\u001b[0m\u001b[0;34m(\u001b[0m\u001b[0mkey\u001b[0m\u001b[0;34m)\u001b[0m\u001b[0;34m\u001b[0m\u001b[0;34m\u001b[0m\u001b[0m\n\u001b[0;32m-> 3812\u001b[0;31m             \u001b[0;32mraise\u001b[0m \u001b[0mKeyError\u001b[0m\u001b[0;34m(\u001b[0m\u001b[0mkey\u001b[0m\u001b[0;34m)\u001b[0m \u001b[0;32mfrom\u001b[0m \u001b[0merr\u001b[0m\u001b[0;34m\u001b[0m\u001b[0;34m\u001b[0m\u001b[0m\n\u001b[0m\u001b[1;32m   3813\u001b[0m         \u001b[0;32mexcept\u001b[0m \u001b[0mTypeError\u001b[0m\u001b[0;34m:\u001b[0m\u001b[0;34m\u001b[0m\u001b[0;34m\u001b[0m\u001b[0m\n\u001b[1;32m   3814\u001b[0m             \u001b[0;31m# If we have a listlike key, _check_indexing_error will raise\u001b[0m\u001b[0;34m\u001b[0m\u001b[0;34m\u001b[0m\u001b[0m\n",
            "\u001b[0;31mKeyError\u001b[0m: 'spe_cod'"
          ]
        }
      ]
    }
  ]
}